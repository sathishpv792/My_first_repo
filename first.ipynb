{
 "cells": [
  {
   "cell_type": "code",
   "execution_count": 1,
   "id": "85240a7f-96fa-4b6b-bf73-8f7f969df3b3",
   "metadata": {},
   "outputs": [
    {
     "name": "stdout",
     "output_type": "stream",
     "text": [
      "Hai! i started using git and github\n"
     ]
    }
   ],
   "source": [
    "print(\"Hai! i started using git and github\")"
   ]
  },
  {
   "cell_type": "code",
   "execution_count": 2,
   "id": "a6793651-e7a0-4b6f-9e16-9d365798083d",
   "metadata": {},
   "outputs": [
    {
     "name": "stdout",
     "output_type": "stream",
     "text": [
      "This is updation check\n"
     ]
    }
   ],
   "source": [
    "print(\"This is updation check\")"
   ]
  },
  {
   "cell_type": "code",
   "execution_count": null,
   "id": "21c59556-f157-4a55-b05f-eca5cd71ea4f",
   "metadata": {},
   "outputs": [],
   "source": []
  }
 ],
 "metadata": {
  "kernelspec": {
   "display_name": "Python 3 (ipykernel)",
   "language": "python",
   "name": "python3"
  },
  "language_info": {
   "codemirror_mode": {
    "name": "ipython",
    "version": 3
   },
   "file_extension": ".py",
   "mimetype": "text/x-python",
   "name": "python",
   "nbconvert_exporter": "python",
   "pygments_lexer": "ipython3",
   "version": "3.12.7"
  }
 },
 "nbformat": 4,
 "nbformat_minor": 5
}
